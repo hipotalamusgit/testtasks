{
 "cells": [
  {
   "cell_type": "code",
   "execution_count": null,
   "metadata": {},
   "outputs": [],
   "source": []
  },
  {
   "cell_type": "code",
   "execution_count": 8,
   "metadata": {},
   "outputs": [
    {
     "name": "stdout",
     "output_type": "stream",
     "text": [
      "У нас есть таблица, отсортированная по user_id и по полю date\n",
      "   user_id  date\n",
      "0       11    13\n",
      "1       11    18\n",
      "2       11    22\n",
      "3       33    12\n",
      "4       33    44\n",
      "В результате нам нужно показать либо разницу между датой и предыдущей датой в рамках данного юзер айди, либо просто дату\n",
      "   user_id_x  date_x  result\n",
      "0       11.0      13    13.0\n",
      "1       11.0      18     5.0\n",
      "2       11.0      22     4.0\n",
      "3       33.0      12    12.0\n",
      "4       33.0      44    32.0\n"
     ]
    }
   ],
   "source": [
    "# Online Python compiler (interpreter) to run Python online.\n",
    "# Write Python 3 code in this online editor and run it.\n",
    "import numpy as np\n",
    "import pandas as pd\n",
    "\n",
    "df = pd.DataFrame({\"user_id\": [11, 11, 11, 33, 33],\n",
    "                   \"date\": [13, 18, 22, 12, 44],\n",
    "                   \n",
    "                   })\n",
    "print(\"У нас есть таблица, отсортированная по user_id и по полю date\")\n",
    "print(df.head())\n",
    "\n",
    "df2 = df.shift(periods=1)\n",
    "#print(df2)\n",
    "df['user_id'] = df['user_id'].astype(float)\n",
    "#print(df2)\n",
    "df3 = pd.merge(df, df2, left_index=True, right_index=True)\n",
    "#print (df3 )\n",
    "df3['delta_x'] = df3['date_x'] - df3['date_y']\n",
    "df3['result'] = np.where(df3.user_id_x== df3.user_id_y, df3.delta_x, df3.date_x)\n",
    "print(\"В результате нам нужно показать либо разницу между этим числом и предыдущим числом в рамках данного юзер айди, либо просто это число\")\n",
    "print(df3[['user_id_x','date_x', 'result']])"
   ]
  },
  {
   "cell_type": "code",
   "execution_count": null,
   "metadata": {},
   "outputs": [],
   "source": [
    " !pip uninstall numpy"
   ]
  },
  {
   "cell_type": "code",
   "execution_count": null,
   "metadata": {},
   "outputs": [],
   "source": [
    "!pip install numpy"
   ]
  }
 ],
 "metadata": {
  "kernelspec": {
   "display_name": "Python 3",
   "language": "python",
   "name": "python3"
  },
  "language_info": {
   "codemirror_mode": {
    "name": "ipython",
    "version": 3
   },
   "file_extension": ".py",
   "mimetype": "text/x-python",
   "name": "python",
   "nbconvert_exporter": "python",
   "pygments_lexer": "ipython3",
   "version": "3.7.6"
  }
 },
 "nbformat": 4,
 "nbformat_minor": 4
}
