{
 "cells": [
  {
   "cell_type": "code",
   "execution_count": 1,
   "metadata": {},
   "outputs": [],
   "source": [
    "l1 =  ['a', 'a', 'a', 'b', 'b', 'b', 'b', 'c', 'c', 'c', 'c', 'c'] "
   ]
  },
  {
   "cell_type": "code",
   "execution_count": 107,
   "metadata": {},
   "outputs": [],
   "source": [
    "l2 =  ['a', 'b', 'c', 'a', 'b', 'c', 'c', 'c','d','d']"
   ]
  },
  {
   "cell_type": "code",
   "execution_count": 15,
   "metadata": {},
   "outputs": [
    {
     "name": "stdout",
     "output_type": "stream",
     "text": [
      "         A    B    C\n",
      "count  1.0  1.0  1.0\n",
      "mean   3.0  4.0  5.0\n",
      "std    NaN  NaN  NaN\n",
      "min    3.0  4.0  5.0\n",
      "25%    3.0  4.0  5.0\n",
      "50%    3.0  4.0  5.0\n",
      "75%    3.0  4.0  5.0\n",
      "max    3.0  4.0  5.0\n"
     ]
    }
   ],
   "source": [
    "import numpy \n",
    "import pandas as pd\n",
    "df = pd.DataFrame({'A':  l1.count('a'), 'B':  l1.count('b'), 'C':  l1.count('c')}, index=[0])\n",
    "\n",
    "print (df.describe())"
   ]
  },
  {
   "cell_type": "code",
   "execution_count": null,
   "metadata": {},
   "outputs": [],
   "source": [
    "df"
   ]
  },
  {
   "cell_type": "code",
   "execution_count": 4,
   "metadata": {},
   "outputs": [
    {
     "ename": "NameError",
     "evalue": "name 'df' is not defined",
     "output_type": "error",
     "traceback": [
      "\u001b[1;31m---------------------------------------------------------------------------\u001b[0m",
      "\u001b[1;31mNameError\u001b[0m                                 Traceback (most recent call last)",
      "\u001b[1;32m<ipython-input-4-2a851eda2e88>\u001b[0m in \u001b[0;36m<module>\u001b[1;34m\u001b[0m\n\u001b[1;32m----> 1\u001b[1;33m \u001b[0mprint\u001b[0m\u001b[1;33m(\u001b[0m\u001b[0mdf\u001b[0m\u001b[1;33m)\u001b[0m\u001b[1;33m\u001b[0m\u001b[1;33m\u001b[0m\u001b[0m\n\u001b[0m",
      "\u001b[1;31mNameError\u001b[0m: name 'df' is not defined"
     ]
    }
   ],
   "source": [
    "print(df)"
   ]
  },
  {
   "cell_type": "code",
   "execution_count": 123,
   "metadata": {},
   "outputs": [
    {
     "data": {
      "text/plain": [
       "2"
      ]
     },
     "execution_count": 123,
     "metadata": {},
     "output_type": "execute_result"
    }
   ],
   "source": [
    "l1 =  ['a', 'a', 'a', 'b', 'b', 'b', 'b', 'c', 'c', 'c', 'c', 'c'] \n",
    "l2 =  ['a', 'b', 'c', 'a', 'b', 'c', 'c', 'c','d','d']\n",
    "l3 =  ['a', 'b', 'a','b','a', 'b', 'c', 'c', 'c']\n",
    "def candies(lst):\n",
    "    dic = {}\n",
    "    for val in lst:\n",
    "        if val in dic:\n",
    "            dic[val] = dic[val] +1;  \n",
    "        else: dic[val] =1\n",
    "    #print(dic)\n",
    "    #сначала считаем количество каждой конфеты\n",
    "    data = list(dic.values())\n",
    "    #print(data)\n",
    "    #загоняем значения количеств в лист.\n",
    "\n",
    "    #pd= pd.DataFrame.from_dict(dic,  orient='index',  columns=['lst'])\n",
    "    #for  values in df.iteritems():\n",
    "    #    print('{value}'.format(name=name, value=values[0]))\n",
    "    l=[]\n",
    "    for vls in data:\n",
    "        for i in range(1,vls+1):\n",
    "            if (vls/i).is_integer():\n",
    "                l.append(int(vls/i))\n",
    "    #print (l)\n",
    "    #print(len(data))\n",
    "    #находим делители для всех значений количеств конфет, заодно считаем сколько всего видов конфет присутствует \n",
    "    dic2 = {}\n",
    "    for val in l:\n",
    "        if val in dic2:\n",
    "            dic2[val] = dic2[val] +1;  \n",
    "        else: dic2[val] =1\n",
    "    #print(dic2)\n",
    "    #считаем сколько раз один и тот же делитель пристуствует в количествах разных конфет\n",
    "    ll=[]\n",
    "    for key in dic2:\n",
    "        if dic2[key]==len(data):\n",
    "            ll.append(key)\n",
    "            #если делитель равен количеству видов конфет, значит на такое число людей можно в принципе поделить все конфеты поровну\n",
    "    return max(ll)\n",
    "    #выбираем наибольшее возможное число людей, на которых можно поровну разделить конфеты.\n",
    "candies(l2)"
   ]
  },
  {
   "cell_type": "code",
   "execution_count": 88,
   "metadata": {},
   "outputs": [
    {
     "data": {
      "text/plain": [
       "2"
      ]
     },
     "execution_count": 88,
     "metadata": {},
     "output_type": "execute_result"
    }
   ],
   "source": [
    "1+1"
   ]
  },
  {
   "cell_type": "code",
   "execution_count": null,
   "metadata": {},
   "outputs": [],
   "source": []
  }
 ],
 "metadata": {
  "kernelspec": {
   "display_name": "Python 3",
   "language": "python",
   "name": "python3"
  },
  "language_info": {
   "codemirror_mode": {
    "name": "ipython",
    "version": 3
   },
   "file_extension": ".py",
   "mimetype": "text/x-python",
   "name": "python",
   "nbconvert_exporter": "python",
   "pygments_lexer": "ipython3",
   "version": "3.7.6"
  }
 },
 "nbformat": 4,
 "nbformat_minor": 4
}
