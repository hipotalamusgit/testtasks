{
 "cells": [
  {
   "cell_type": "code",
   "execution_count": 1,
   "metadata": {},
   "outputs": [],
   "source": [
    "import numpy as np\n",
    "import pandas as pd\n",
    "from pandas import DataFrame\n",
    "from scipy.stats import mannwhitneyu\n",
    "from scipy.stats import ttest_ind\n",
    "from scipy.stats import norm\n",
    "import matplotlib.pyplot as plt\n",
    "import seaborn as sns\n",
    "\n",
    "from tqdm.auto import tqdm\n",
    "import seaborn as sns\n",
    "\n",
    "plt.style.use('ggplot')"
   ]
  },
  {
   "cell_type": "code",
   "execution_count": null,
   "metadata": {},
   "outputs": [],
   "source": [
    "def get_bootstrap4(\n",
    "    data_column_1, \n",
    "    \n",
    "    boot_it = 652,  #количество выборок\n",
    "    statistic = np.mean, \n",
    "):\n",
    "    boot_len = max([len(data_column_1)])\n",
    "    boot_data = []\n",
    "    for i in tqdm(range(boot_it)): \n",
    "        samples_1 = data_column_1.sample(\n",
    "            boot_len, \n",
    "            replace = True \n",
    "        ).values\n",
    "    \n",
    "       \n",
    "        \n",
    "        boot_data.append(statistic(samples_1)) \n",
    "    #boot_data.append(statistic(samples_2)) \n",
    "    \n",
    "    mt4 = DataFrame (boot_data,columns=['CVR'] )   \n",
    "    return {print(mt4)}"
   ]
  },
  {
   "cell_type": "code",
   "execution_count": 2,
   "metadata": {},
   "outputs": [
    {
     "name": "stdout",
     "output_type": "stream",
     "text": [
      "count    89060.000000\n",
      "mean         0.173299\n",
      "std          3.799392\n",
      "min          0.000000\n",
      "25%          0.000000\n",
      "50%          0.000000\n",
      "75%          0.000000\n",
      "max        198.452285\n",
      "Name: revev, dtype: float64\n",
      "count    22286.000000\n",
      "mean         0.146611\n",
      "std          3.617670\n",
      "min          0.000000\n",
      "25%          0.000000\n",
      "50%          0.000000\n",
      "75%          0.000000\n",
      "max        149.718876\n",
      "Name: revev, dtype: float64\n"
     ]
    }
   ],
   "source": [
    "import numpy as np\n",
    "from matplotlib import pyplot\n",
    "from statsmodels.api import stats as sm\n",
    "\n",
    "ldt =pd.read_csv('C:/Users/Batyr/Downloads/beres.csv')\n",
    "ct = ldt[ldt['AbGroup']==\"Control\"]\n",
    "ct = ct['revev']\n",
    "print (ct.describe())\n",
    "ts = ldt[ldt['AbGroup']==\"Test\"]\n",
    "ts = ts['revev']\n",
    "print (ts.describe())\n",
    "\n"
   ]
  },
  {
   "cell_type": "code",
   "execution_count": 30,
   "metadata": {},
   "outputs": [
    {
     "data": {
      "application/vnd.jupyter.widget-view+json": {
       "model_id": "db2c4fc5c0ea4bb0bd83344b489223cf",
       "version_major": 2,
       "version_minor": 0
      },
      "text/plain": [
       "HBox(children=(FloatProgress(value=0.0, max=500.0), HTML(value='')))"
      ]
     },
     "metadata": {},
     "output_type": "display_data"
    },
    {
     "name": "stdout",
     "output_type": "stream",
     "text": [
      "\n"
     ]
    },
    {
     "data": {
      "image/png": "[encoded data removed]",
      "text/plain": [
       "<Figure size 432x288 with 1 Axes>"
      ]
     },
     "metadata": {},
     "output_type": "display_data"
    }
   ],
   "source": [
    "import numpy as np\n",
    "from matplotlib import pyplot\n",
    "from statsmodels.api import stats as sm\n",
    "\n",
    "ldt =pd.read_csv('C:/Users/Batyr/Downloads/beres.csv')\n",
    "ct = ldt[ldt['AbGroup']==\"Control\"]\n",
    "ct = ct['revev']\n",
    "#print (ct.describe())\n",
    "ts = ldt[ldt['AbGroup']==\"Test\"]\n",
    "ts = ts['revev']\n",
    "#print (ts.describe())\n",
    "\n",
    "boot_len1 = max([len(ct)])\n",
    "boot_len2 = max([len(ts)])\n",
    "boot_data4 = []\n",
    "boot_data5 = []\n",
    "#############df = pd.DataFrame(np.random.randint(0,10,size=(1000,1)))\n",
    "for i in tqdm(range(500)): \n",
    "        samples_1 = ct.sample(\n",
    "            boot_len1, \n",
    "            replace = True \n",
    "        ).values\n",
    "        samples_2 = ts.sample(\n",
    "            boot_len2, \n",
    "            replace = True \n",
    "        ).values \n",
    "        boot_data4.append( int(np.mean(samples_1) * 1000) / 1000) \n",
    "        boot_data5.append(np.mean(samples_2)) \n",
    "ctt = DataFrame (boot_data4,columns=['CVR'] ) \n",
    "tss = DataFrame (boot_data5,columns=['CVR'] ) \n",
    "\n",
    "#tss.hist()\n",
    "#ctt.hist()\n",
    "pyplot.hist(boot_data4 ,30, density=True, alpha = 0.5)\n",
    "pyplot.hist(boot_data5, 30, density=True, alpha = 0.5)\n",
    "\n",
    "##fig, ax = plt.subplots(figsize =(10, 7))\n",
    "##ax.hist(ctt, bins = [0.14,0.15,0.16, 0.17, 0.18, 0.19,0.20,0.21])\n",
    "##fig2, ay = plt.subplots(figsize =(10, 7))\n",
    "##ay.hist(tss, bins = [0.14,0.15,0.16, 0.17, 0.18, 0.19,0.20,0.21])\n",
    "pyplot.show()\n",
    "#print(ctt)\n",
    "#print(ctt.describe())"
   ]
  },
  {
   "cell_type": "code",
   "execution_count": 21,
   "metadata": {},
   "outputs": [
    {
     "data": {
      "image/png": "[encoded data removed]",
      "text/plain": [
       "<Figure size 720x504 with 1 Axes>"
      ]
     },
     "metadata": {},
     "output_type": "display_data"
    }
   ],
   "source": [
    "from matplotlib import pyplot as plt\n",
    "import numpy as np\n",
    "\n",
    "\n",
    "# Creating dataset\n",
    "a = np.array([22, 87, 5, 43, 56,73, 55, 54, 11,\n",
    "\t\t\t20, 51, 5, 79, 31,\n",
    "\t\t\t27])\n",
    "\n",
    "# Creating histogram\n",
    "fig, ax = plt.subplots(figsize =(10, 7))\n",
    "ax.hist(a, bins = [0, 25, 50, 75, 100])\n",
    "\n",
    "# Show plot\n",
    "plt.show()\n"
   ]
  },
  {
   "cell_type": "code",
   "execution_count": 6,
   "metadata": {},
   "outputs": [
    {
     "name": "stdout",
     "output_type": "stream",
     "text": [
      "    0\n",
      "0   1\n",
      "1   4\n",
      "2   1\n",
      "3   6\n",
      "4   5\n",
      ".. ..\n",
      "95  6\n",
      "96  0\n",
      "97  1\n",
      "98  6\n",
      "99  9\n",
      "\n",
      "[100 rows x 1 columns]\n"
     ]
    }
   ],
   "source": []
  }
 ],
 "metadata": {
  "kernelspec": {
   "display_name": "Python 3",
   "language": "python",
   "name": "python3"
  },
  "language_info": {
   "codemirror_mode": {
    "name": "ipython",
    "version": 3
   },
   "file_extension": ".py",
   "mimetype": "text/x-python",
   "name": "python",
   "nbconvert_exporter": "python",
   "pygments_lexer": "ipython3",
   "version": "3.7.6"
  }
 },
 "nbformat": 4,
 "nbformat_minor": 4
}
